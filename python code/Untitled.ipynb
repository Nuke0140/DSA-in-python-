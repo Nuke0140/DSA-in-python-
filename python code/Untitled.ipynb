{
 "cells": [
  {
   "cell_type": "markdown",
   "id": "2e5934ca-1121-4602-948f-839e822f127a",
   "metadata": {},
   "source": [
    "1. write program  that chekc if number is positive  or negative"
   ]
  },
  {
   "cell_type": "code",
   "execution_count": 4,
   "id": "f787ef6d-651c-4586-b737-0702f873d8c1",
   "metadata": {},
   "outputs": [
    {
     "name": "stdout",
     "output_type": "stream",
     "text": [
      "-4 this number is negative\n"
     ]
    }
   ],
   "source": [
    "def check_postive_or_neagtive(num):\n",
    "    if num >=0:\n",
    "        print(num,\"this number is postive\")\n",
    "    else:\n",
    "        print(num,\"this number is negative\")\n",
    "\n",
    "check_postive_or_neagtive(-4)\n",
    "\n",
    "    \n",
    "\n"
   ]
  },
  {
   "cell_type": "markdown",
   "id": "23b459a9-714b-40c1-a8a6-62ac7815c1fd",
   "metadata": {},
   "source": [
    "2. write the proggram check number is even or odd"
   ]
  },
  {
   "cell_type": "code",
   "execution_count": null,
   "id": "f410fbb0-9b22-42f6-a670-bff0dafd1143",
   "metadata": {},
   "outputs": [],
   "source": [
    "num= 5 \n",
    "\n",
    "if num/2 ==0 :\n",
    "    print(\"this number is even\")\n",
    " "
   ]
  },
  {
   "cell_type": "code",
   "execution_count": null,
   "id": "07c68d51-06c6-4c81-a37c-31d4fb5181f5",
   "metadata": {},
   "outputs": [],
   "source": []
  },
  {
   "cell_type": "code",
   "execution_count": null,
   "id": "c2e3d945-dd24-4626-a21e-a1d1588944d5",
   "metadata": {},
   "outputs": [],
   "source": []
  },
  {
   "cell_type": "code",
   "execution_count": null,
   "id": "c320d3fe-ca0c-491f-9b1e-51ed0c3a6012",
   "metadata": {},
   "outputs": [],
   "source": []
  },
  {
   "cell_type": "code",
   "execution_count": null,
   "id": "40eff48b-cde7-4e3d-9017-e4f59d43d89c",
   "metadata": {},
   "outputs": [],
   "source": []
  },
  {
   "cell_type": "code",
   "execution_count": null,
   "id": "c171adbb-24d1-4b0a-a43f-f97d4db4ec7d",
   "metadata": {},
   "outputs": [],
   "source": []
  },
  {
   "cell_type": "code",
   "execution_count": null,
   "id": "ecfbbd22-1cb4-417f-b8f5-3eee3dc08c2e",
   "metadata": {},
   "outputs": [],
   "source": []
  }
 ],
 "metadata": {
  "kernelspec": {
   "display_name": "Python 3 (ipykernel)",
   "language": "python",
   "name": "python3"
  },
  "language_info": {
   "codemirror_mode": {
    "name": "ipython",
    "version": 3
   },
   "file_extension": ".py",
   "mimetype": "text/x-python",
   "name": "python",
   "nbconvert_exporter": "python",
   "pygments_lexer": "ipython3",
   "version": "3.12.4"
  }
 },
 "nbformat": 4,
 "nbformat_minor": 5
}
