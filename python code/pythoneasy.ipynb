{
 "cells": [
  {
   "cell_type": "code",
   "execution_count": 1,
   "id": "d271bbd4-7be0-45c8-a2b8-15dae2ddad6f",
   "metadata": {},
   "outputs": [
    {
     "name": "stdout",
     "output_type": "stream",
     "text": [
      "lets start it \n"
     ]
    }
   ],
   "source": [
    "# 1.print the hello world in console \n",
    "print(\"lets start it \")"
   ]
  },
  {
   "cell_type": "code",
   "execution_count": 2,
   "id": "91424346-ffbd-4e6b-81fa-98b6821deb20",
   "metadata": {},
   "outputs": [
    {
     "name": "stdout",
     "output_type": "stream",
     "text": [
      " hello guys i m doing lots of thing today\n"
     ]
    }
   ],
   "source": [
    "# 2.Create variable and print its value \n",
    "a = \" hello guys i m doing lots of thing today\"\n",
    "print(a)"
   ]
  },
  {
   "cell_type": "code",
   "execution_count": 3,
   "id": "b15b1f09-0c84-42cc-beb8-c5098ed05883",
   "metadata": {},
   "outputs": [
    {
     "name": "stdout",
     "output_type": "stream",
     "text": [
      "value of a : 5 value of b: 6\n",
      "value of a : 6 value of b: 5\n"
     ]
    }
   ],
   "source": [
    "#3. Swap the value of two varibles \n",
    "a = 5 \n",
    "b= 6\n",
    "print(\"value of a :\",a,\"value of b:\" ,b)\n",
    "a,b=b,a\n",
    "print(\"value of a :\",a,\"value of b:\" ,b)"
   ]
  },
  {
   "cell_type": "code",
   "execution_count": 4,
   "id": "6662a72b-2c65-4e97-8e7c-cd1f6ab54f10",
   "metadata": {},
   "outputs": [
    {
     "name": "stdout",
     "output_type": "stream",
     "text": [
      "11\n"
     ]
    }
   ],
   "source": [
    "#.4 print the sum of two numbers \n",
    "\n",
    "a = 5 \n",
    "b= 6\n",
    "c= a+b \n",
    "print(c)"
   ]
  },
  {
   "cell_type": "code",
   "execution_count": 5,
   "id": "b37296c0-47c2-410d-82a3-f78bd6c0075b",
   "metadata": {},
   "outputs": [
    {
     "name": "stdout",
     "output_type": "stream",
     "text": [
      "11.333333333333334\n"
     ]
    }
   ],
   "source": [
    "# 5. dividing two numbers \n",
    "num1= 34 \n",
    "num2 = 3\n",
    "num3 = num1/num2\n",
    "print(num3)"
   ]
  },
  {
   "cell_type": "code",
   "execution_count": 6,
   "id": "34cba7a3-89f6-443b-8319-aeb2f46f132f",
   "metadata": {},
   "outputs": [
    {
     "name": "stdout",
     "output_type": "stream",
     "text": [
      "division og number is : 11.333333333333334   and remainder is :  1\n"
     ]
    }
   ],
   "source": [
    "# 6.reminder of  dicing two number\n",
    "\n",
    "num1= 34 \n",
    "num2 = 3\n",
    "devivision= num1 / num2\n",
    "remainder = num1 % num2\n",
    "print(\"division og number is :\", devivision,' ', \"and remainder is : \", remainder)"
   ]
  },
  {
   "cell_type": "code",
   "execution_count": 7,
   "id": "a5e5d796-2821-4ae6-a29e-d40c28c38107",
   "metadata": {},
   "outputs": [
    {
     "name": "stdout",
     "output_type": "stream",
     "text": [
      "782\n"
     ]
    }
   ],
   "source": [
    "#7 multiplying 2  numbers \n",
    "num1 =  23 \n",
    "num2 = 34 \n",
    "mul= num1 * num2\n",
    "print(mul)"
   ]
  },
  {
   "cell_type": "code",
   "execution_count": 8,
   "id": "69002e77-e76e-41bc-b51a-e08a9b355874",
   "metadata": {},
   "outputs": [
    {
     "name": "stdout",
     "output_type": "stream",
     "text": [
      "<class 'int'> 7\n",
      "<class 'float'> 7.0\n"
     ]
    }
   ],
   "source": [
    "#8. convert sting to interger and float \n",
    "\n",
    "a = \" 7\"\n",
    "b = int(a)\n",
    "print(type(b), b)\n",
    "\n",
    "c = float(a)\n",
    "print(type(c), c)"
   ]
  },
  {
   "cell_type": "code",
   "execution_count": 9,
   "id": "ec6e24c9-c733-4c17-aeb3-0373ff0adfda",
   "metadata": {},
   "outputs": [
    {
     "name": "stdout",
     "output_type": "stream",
     "text": [
      "65 on here so can y\n"
     ]
    }
   ],
   "source": [
    "# 9  find  the length of string \n",
    "\n",
    "a = \" hello world i m learning the python here so can you help with it\"\n",
    "\n",
    "print( len(a), a[34:50])"
   ]
  },
  {
   "cell_type": "code",
   "execution_count": 10,
   "id": "0cde5403-149b-4db5-bc96-adb37cc99b55",
   "metadata": {},
   "outputs": [
    {
     "name": "stdout",
     "output_type": "stream",
     "text": [
      "number is negative \n"
     ]
    }
   ],
   "source": [
    "# 10  Write a program  that checks if number is postive  or negataive\n",
    "\n",
    "a = -1 \n",
    "\n",
    "if a >=0 or a ==0 :\n",
    "    print(\" number is postive\")\n",
    "else :\n",
    "    print(\"number is negative \")"
   ]
  },
  {
   "cell_type": "code",
   "execution_count": 11,
   "id": "1adbcd1c-e9ca-4971-940a-7832759cbfd2",
   "metadata": {},
   "outputs": [
    {
     "name": "stdout",
     "output_type": "stream",
     "text": [
      " The number is even\n"
     ]
    }
   ],
   "source": [
    "# 11 Write a program tha  number even or add \n",
    "a = 22\n",
    "\n",
    "if a%2==0: \n",
    "    print(\" The number is even\")\n",
    "else: \n",
    "    print(\" the number is odd \")"
   ]
  },
  {
   "cell_type": "code",
   "execution_count": 12,
   "id": "580fdaf0-43e5-4001-b13d-6a8f245da79b",
   "metadata": {},
   "outputs": [
    {
     "name": "stdout",
     "output_type": "stream",
     "text": [
      " The number is even\n"
     ]
    }
   ],
   "source": [
    "# 11 Write a program tha  number even or add \n",
    "a = 22\n",
    "\n",
    "if a%2==0: \n",
    "    print(\" The number is even\")\n",
    "else: \n",
    "    print(\" the number is odd \")"
   ]
  },
  {
   "cell_type": "code",
   "execution_count": 13,
   "id": "69a94379-f993-43ee-9a6d-07efdce69971",
   "metadata": {},
   "outputs": [
    {
     "name": "stdout",
     "output_type": "stream",
     "text": [
      "this year is leap year \n"
     ]
    }
   ],
   "source": [
    "# 12.Write  a program  that checks if the year is leap nor not \n",
    "year = 2028\n",
    "\n",
    "if year%4 == 0:\n",
    "    print (\"this year is leap year \")\n",
    "else:\n",
    "    print (\"its Normal year\")"
   ]
  },
  {
   "cell_type": "code",
   "execution_count": 14,
   "id": "784d3b58-7ce0-450f-ba3b-fc5cbe868b5a",
   "metadata": {},
   "outputs": [
    {
     "name": "stdout",
     "output_type": "stream",
     "text": [
      " this is vowel\n",
      "None\n"
     ]
    }
   ],
   "source": [
    "# 13. write that checks if character is a vowel or consonant \n",
    "\n",
    "def check_vowel(name):\n",
    "    if (name =='a'or name == 'e' or name =='i' or name=='o' or name == \"u\"):\n",
    "        print(\" this is vowel\")\n",
    "    else:\n",
    "        print(\"this is consonant\")\n",
    "        \n",
    "\n",
    "a= check_vowel(\"u\")\n",
    "print(a)"
   ]
  },
  {
   "cell_type": "code",
   "execution_count": 15,
   "id": "72dc4f6a-add1-44d6-9f62-fd98509998f6",
   "metadata": {},
   "outputs": [
    {
     "name": "stdout",
     "output_type": "stream",
     "text": [
      "vowel\n"
     ]
    }
   ],
   "source": [
    "li=['a', 'e', 'i','o','u']\n",
    "\n",
    "a = \"u\"\n",
    "\n",
    "if a in li:\n",
    "    print(\"vowel\")\n",
    "else:\n",
    "    print(\"consonant\")\n",
    "    "
   ]
  },
  {
   "cell_type": "code",
   "execution_count": 16,
   "id": "d7e7dc80-896e-4495-884d-768f4ad9174a",
   "metadata": {},
   "outputs": [
    {
     "name": "stdout",
     "output_type": "stream",
     "text": [
      "1   2   3   4   5   6   7   8   9   10   \n",
      "even number\n",
      "0   2   4   6   8   10   12   14   16   18   \n",
      "odd numbers \n",
      "1 3 5 7 9 11 13 15 17 19 "
     ]
    }
   ],
   "source": [
    "# 16 print  the number  1 to 10 using loop \n",
    "for i in range (1, 11): \n",
    "    print(i, end='   ')\n",
    "print()\n",
    "print(\"even number\", )\n",
    "# is number i even number 1 to 20 using loop\n",
    "for i in range(0,20,2):\n",
    "    \n",
    "    print(i,end='   ')\n",
    "\n",
    "\n",
    "#Write then odd number between 1 to 20 using loop \n",
    "print()\n",
    "print(\"odd numbers \")\n",
    "for i in range(1,20,2):\n",
    "    print(i, end=' ')\n"
   ]
  },
  {
   "cell_type": "code",
   "execution_count": 17,
   "id": "546a73c9-0c69-4e43-b7fc-ed7a460b281b",
   "metadata": {},
   "outputs": [
    {
     "name": "stdout",
     "output_type": "stream",
     "text": [
      "5\n",
      "10\n",
      "15\n",
      "20\n",
      "25\n",
      "30\n",
      "35\n",
      "40\n",
      "45\n",
      "50\n"
     ]
    }
   ],
   "source": [
    "# print the multiplcaton table \n",
    "\n",
    "a = 5\n",
    "\n",
    "for i in range (1 , 11):\n",
    "    i = i * a\n",
    "    print(i)"
   ]
  },
  {
   "cell_type": "code",
   "execution_count": 18,
   "id": "0aeab8bd-28b4-4b6e-83b8-2445381d6598",
   "metadata": {},
   "outputs": [
    {
     "name": "stdout",
     "output_type": "stream",
     "text": [
      "10 19 27 34 40 45 49 52 54 55 sum of this number 55\n"
     ]
    }
   ],
   "source": [
    "# write the program sum of 1st natural number \n",
    "a = 10\n",
    "b = 0 \n",
    "\n",
    "while (a>0):\n",
    "    b += a\n",
    "    a -= 1\n",
    "    print(b,end=' ')\n",
    "print(\"sum of this number\", b)\n",
    "\n"
   ]
  },
  {
   "cell_type": "code",
   "execution_count": 19,
   "id": "beb037b6-010b-43ff-8b83-bb8133e883db",
   "metadata": {},
   "outputs": [
    {
     "name": "stdout",
     "output_type": "stream",
     "text": [
      "120\n"
     ]
    }
   ],
   "source": [
    "# calculate factorial of number \n",
    "def fact(n):\n",
    "    if n==1:\n",
    "        return 1 \n",
    "    else:\n",
    "        return (n * fact(n-1))\n",
    "    \n",
    "print(fact(5))"
   ]
  },
  {
   "cell_type": "code",
   "execution_count": 20,
   "id": "341c0925-d002-415e-ab1f-c69cccf6d9a6",
   "metadata": {},
   "outputs": [
    {
     "name": "stdout",
     "output_type": "stream",
     "text": [
      "16\n"
     ]
    }
   ],
   "source": [
    "# function return the suqare of the number \n",
    "\n",
    "\n",
    "def suqare(num):\n",
    "    return num * num\n",
    "\n",
    "print(suqare(4))"
   ]
  },
  {
   "cell_type": "code",
   "execution_count": 21,
   "id": "5633c960-3bd9-4182-8c48-288ad5aea95c",
   "metadata": {},
   "outputs": [
    {
     "name": "stdout",
     "output_type": "stream",
     "text": [
      "squre root of given number is 8.06225774829855\n"
     ]
    }
   ],
   "source": [
    "#square root program \n",
    "\n",
    "num = 65 \n",
    "sr= num**(1/2)\n",
    "print (\"squre root of given number is\",sr )"
   ]
  },
  {
   "cell_type": "code",
   "execution_count": 22,
   "id": "94d8d923-b524-4b9e-9fc4-8fea8672f261",
   "metadata": {},
   "outputs": [
    {
     "name": "stdout",
     "output_type": "stream",
     "text": [
      "0 1 1 2 3 5 8 13 21 34 "
     ]
    }
   ],
   "source": [
    "#  Number of Fibonacci numbers to print\n",
    "n = 10\n",
    "\n",
    "# Initial two Fibonacci numbers\n",
    "a, b = 0, 1\n",
    "\n",
    "# Using a for loop to print the first 10 Fibonacci numbers\n",
    "for i in range(n):\n",
    "    print(a, end=' ')\n",
    "    a, b = b, a + b\n"
   ]
  },
  {
   "cell_type": "code",
   "execution_count": 25,
   "id": "e94a128c-c037-41ca-896f-9053419f1791",
   "metadata": {},
   "outputs": [
    {
     "name": "stdout",
     "output_type": "stream",
     "text": [
      "The largest element in the list is: 78\n"
     ]
    }
   ],
   "source": [
    "def find_largest_element(lst):\n",
    "    if not lst:\n",
    "        return None  # Return None if the list is empty\n",
    "\n",
    "    largest = lst[0]\n",
    "    for num in lst:\n",
    "        if num > largest:\n",
    "            largest = num\n",
    "\n",
    "    return largest\n",
    "\n",
    "# Example list\n",
    "example_list = [56, 5, 7, 2, 8, 1,78, 4, 10, 6]\n",
    "largest_element = find_largest_element(example_list)\n",
    "print(\"The largest element in the list is:\", largest_element)\n"
   ]
  },
  {
   "cell_type": "code",
   "execution_count": null,
   "id": "ed1a8e21-1b0a-45fd-9ec1-7cd2c94055bd",
   "metadata": {},
   "outputs": [],
   "source": []
  },
  {
   "cell_type": "code",
   "execution_count": null,
   "id": "d34f5614-a21b-4663-b844-ddb4d66a32aa",
   "metadata": {},
   "outputs": [],
   "source": []
  },
  {
   "cell_type": "code",
   "execution_count": null,
   "id": "8205a924-8179-4369-b962-4b259d79c34d",
   "metadata": {},
   "outputs": [],
   "source": []
  },
  {
   "cell_type": "code",
   "execution_count": null,
   "id": "94567ece-ce1f-4693-876a-7665a7257605",
   "metadata": {},
   "outputs": [],
   "source": []
  },
  {
   "cell_type": "code",
   "execution_count": null,
   "id": "38eee60f-24da-4842-8127-0eeefbf8bd3a",
   "metadata": {},
   "outputs": [],
   "source": []
  }
 ],
 "metadata": {
  "kernelspec": {
   "display_name": "Python 3 (ipykernel)",
   "language": "python",
   "name": "python3"
  }
 },
 "nbformat": 4,
 "nbformat_minor": 5
}
