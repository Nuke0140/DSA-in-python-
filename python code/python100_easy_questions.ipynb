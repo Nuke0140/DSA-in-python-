{
 "cells": [
  {
   "cell_type": "markdown",
   "metadata": {
    "notebookRunGroups": {
     "groupValue": "1"
    }
   },
   "source": [
    "<h1> 100 python easy questions </h1>"
   ]
  },
  {
   "cell_type": "markdown",
   "metadata": {},
   "source": [
    "### 1. swap the values of two variable "
   ]
  },
  {
   "cell_type": "code",
   "execution_count": 5,
   "metadata": {},
   "outputs": [
    {
     "name": "stdout",
     "output_type": "stream",
     "text": [
      "a 5 b 6\n",
      "a 6 b 5\n"
     ]
    }
   ],
   "source": [
    "a =5\n",
    "b = 6\n",
    "print(\"a\", a , \"b\", b)\n",
    "# lets swaps\n",
    "\n",
    "a,b=b,a\n",
    " \n",
    "print(\"a\", a , \"b\", b)"
   ]
  },
  {
   "cell_type": "markdown",
   "metadata": {},
   "source": [
    "#### 2. Print sum of two numbers "
   ]
  },
  {
   "cell_type": "code",
   "execution_count": 7,
   "metadata": {},
   "outputs": [
    {
     "name": "stdout",
     "output_type": "stream",
     "text": [
      "11\n"
     ]
    }
   ],
   "source": [
    "print(a+b)"
   ]
  },
  {
   "cell_type": "markdown",
   "metadata": {},
   "source": [
    "#### 3.  convert a string into integer and float \n"
   ]
  },
  {
   "cell_type": "code",
   "execution_count": 8,
   "metadata": {},
   "outputs": [
    {
     "name": "stdout",
     "output_type": "stream",
     "text": [
      "<class 'str'> 8\n",
      "<class 'int'> 8\n",
      "<class 'float'> 8.0\n"
     ]
    }
   ],
   "source": [
    "c = \"8\"\n",
    "print(type(c), c)\n",
    "a = int(c)\n",
    "print(type(a),a)\n",
    "b = float(c)\n",
    "print(type(b),b)"
   ]
  },
  {
   "cell_type": "code",
   "execution_count": 12,
   "metadata": {},
   "outputs": [
    {
     "name": "stdout",
     "output_type": "stream",
     "text": [
      "55 is is string we g gnirts siht fo htgnel eht dnif annog ew gnirts si siht \n"
     ]
    }
   ],
   "source": [
    "#find the lenght of sting \n",
    "\n",
    "a = \" this is string we gonna find the length of this string\"\n",
    "print(len(a), a[3:20], a[::-1])"
   ]
  },
  {
   "cell_type": "markdown",
   "metadata": {},
   "source": [
    "##### 4. check number is postive or negative "
   ]
  },
  {
   "cell_type": "code",
   "execution_count": 13,
   "metadata": {},
   "outputs": [
    {
     "name": "stdout",
     "output_type": "stream",
     "text": [
      "4  this number is positive\n"
     ]
    }
   ],
   "source": [
    "num = 4 \n",
    "\n",
    "if num >= 0:\n",
    "    print(num, \" this number is positive\")\n",
    "else:\n",
    "    print(num, \" this number is negative \")"
   ]
  },
  {
   "cell_type": "markdown",
   "metadata": {},
   "source": [
    "##### 5. check this number is even ot odd"
   ]
  },
  {
   "cell_type": "code",
   "execution_count": 18,
   "metadata": {},
   "outputs": [
    {
     "name": "stdout",
     "output_type": "stream",
     "text": [
      "56  this number is even\n"
     ]
    }
   ],
   "source": [
    "num = 56\n",
    "\n",
    "if  num%2==0 :\n",
    "    print(num, \" this number is even\")\n",
    "else: \n",
    "    print(num, \" this number is odd \")"
   ]
  },
  {
   "cell_type": "markdown",
   "metadata": {},
   "source": [
    "##### 6.  finds the largest of three  numbers "
   ]
  },
  {
   "cell_type": "code",
   "execution_count": 32,
   "metadata": {},
   "outputs": [
    {
     "name": "stdout",
     "output_type": "stream",
     "text": [
      "c is greater number \n"
     ]
    }
   ],
   "source": [
    "a = 60 \n",
    "b = 55 \n",
    "c = 70\n",
    "\n",
    "if a <b and a<c :\n",
    "    print(\"a is greater number\")\n",
    "elif b>a and b> c:\n",
    "    print(\"b is greater number\")\n",
    "else:\n",
    "    print(\"c is greater number \")\n"
   ]
  },
  {
   "cell_type": "code",
   "execution_count": 48,
   "metadata": {},
   "outputs": [
    {
     "name": "stdout",
     "output_type": "stream",
     "text": [
      "a is greater number\n"
     ]
    }
   ],
   "source": [
    "class FIND_MAX:\n",
    "    \n",
    "    def __init__(self):\n",
    "        self.num1= a\n",
    "        self.num2=b\n",
    "        self.num3= c\n",
    "        \n",
    "    def find_max(self,a,b,c):\n",
    "        if a >b and a>c :\n",
    "           print(\"a is greater number\")\n",
    "        elif b>a and b> c:\n",
    "           print(\"b is greater number\")\n",
    "        else:\n",
    "           print(\"c is greater number \")\n",
    "\n",
    "        \n",
    "    \n",
    "s1= FIND_MAX()\n",
    "\n",
    "s1.find_max( 90, 80 ,4)\n",
    "\n"
   ]
  },
  {
   "cell_type": "markdown",
   "metadata": {},
   "source": [
    "##### check if the year is leaf or not \n"
   ]
  },
  {
   "cell_type": "code",
   "execution_count": 55,
   "metadata": {},
   "outputs": [
    {
     "name": "stdout",
     "output_type": "stream",
     "text": [
      "this year is leap year\n"
     ]
    }
   ],
   "source": [
    "year = 2024\n",
    "\n",
    "if year %4==0:\n",
    "    print(\"this year is leap year\")\n",
    "else:\n",
    "    print(\"this year is Normal year\")"
   ]
  },
  {
   "cell_type": "code",
   "execution_count": 59,
   "metadata": {},
   "outputs": [
    {
     "name": "stdout",
     "output_type": "stream",
     "text": [
      "2024 this  year is leap year\n"
     ]
    }
   ],
   "source": [
    "class LEAF_year:\n",
    "    \n",
    "    def __init__(self):\n",
    "        \n",
    "        self.year=year\n",
    "        \n",
    "    def leap_year(self, year):\n",
    "        if year % 4== 0:\n",
    "            print(year,\"this  year is leap year\")\n",
    "        else: \n",
    "            print(year, \" this year is Normal year\")\n",
    "\n",
    "s1=LEAF_year()\n",
    "\n",
    "s1.leap_year(2024)"
   ]
  },
  {
   "cell_type": "markdown",
   "metadata": {},
   "source": [
    "##### check the character Vowel or Consontant"
   ]
  },
  {
   "cell_type": "code",
   "execution_count": null,
   "metadata": {},
   "outputs": [],
   "source": []
  },
  {
   "cell_type": "code",
   "execution_count": null,
   "metadata": {},
   "outputs": [],
   "source": []
  },
  {
   "cell_type": "markdown",
   "metadata": {},
   "source": [
    "##### looop  quetions \n"
   ]
  },
  {
   "cell_type": "code",
   "execution_count": 62,
   "metadata": {},
   "outputs": [
    {
     "name": "stdout",
     "output_type": "stream",
     "text": [
      "1 2 3 4 5 6 7 8 9 10 "
     ]
    }
   ],
   "source": [
    "for i in range (1,11):\n",
    "    print(i , end=' ')"
   ]
  },
  {
   "cell_type": "code",
   "execution_count": 91,
   "metadata": {},
   "outputs": [
    {
     "name": "stdout",
     "output_type": "stream",
     "text": [
      "0 2 4 6 8 10 12 14 16 18 20 22 24 26 28 30 \n",
      "even number is \n",
      "0 2 4 6 8 10 12 14 16 18 20 22 24 26 28 \n",
      "odd number is\n",
      "1 3 5 7 9 11 13 15 17 19 21 23 25 27 29 "
     ]
    }
   ],
   "source": [
    "#even numbers \n",
    "for i in range(0, 31, 2):\n",
    "    print(i, end=' ')\n",
    "    \n",
    "n = 30 \n",
    "print()\n",
    "print(\"even number is \")\n",
    "for i in range (n):\n",
    "    if i%2==0:\n",
    "        print(i,end=' ')\n",
    "print()\n",
    "print(\"odd number is\")\n",
    "for i in range(n):\n",
    "    if i%2 !=0:\n",
    "        print(i , end=' ')\n",
    "    \n"
   ]
  },
  {
   "cell_type": "code",
   "execution_count": 93,
   "metadata": {},
   "outputs": [
    {
     "name": "stdout",
     "output_type": "stream",
     "text": [
      "5 10 15 20 25 30 35 40 45 50 "
     ]
    }
   ],
   "source": [
    "# multiplication table of the number \n",
    "\n",
    "n = 5\n",
    "\n",
    "for i in range (1,11):\n",
    "    p = i * n \n",
    "    print(p, end= ' ')"
   ]
  },
  {
   "cell_type": "markdown",
   "metadata": {},
   "source": [
    "#### 10.additon of natural numbers "
   ]
  },
  {
   "cell_type": "code",
   "execution_count": 126,
   "metadata": {},
   "outputs": [
    {
     "name": "stdout",
     "output_type": "stream",
     "text": [
      "211\n"
     ]
    }
   ],
   "source": [
    "# addtion of  natural number \n",
    "\n",
    "n = 20\n",
    "i = 1\n",
    "while n>=0:\n",
    "   \n",
    "    i=n +i\n",
    "    n= n-1\n",
    "print(i)\n",
    "    \n",
    "    "
   ]
  },
  {
   "cell_type": "code",
   "execution_count": 170,
   "metadata": {},
   "outputs": [
    {
     "name": "stdout",
     "output_type": "stream",
     "text": [
      "1\n",
      "2\n",
      "6\n",
      "24\n",
      "120\n"
     ]
    }
   ],
   "source": [
    "n = 5\n",
    "\n",
    "j = 1\n",
    "\n",
    "for i in range (1, n + 1):\n",
    "    j = j *i\n",
    "    print(j)\n"
   ]
  },
  {
   "cell_type": "code",
   "execution_count": 172,
   "metadata": {},
   "outputs": [
    {
     "name": "stdout",
     "output_type": "stream",
     "text": [
      "5\n",
      "4\n",
      "3\n",
      "2\n"
     ]
    },
    {
     "data": {
      "text/plain": [
       "120"
      ]
     },
     "execution_count": 172,
     "metadata": {},
     "output_type": "execute_result"
    }
   ],
   "source": [
    "def factorial(n):\n",
    "    if n == 0 or n ==1:\n",
    "        return 1\n",
    "    print(n)\n",
    "    return n * factorial(n-1)\n",
    "    \n",
    "factorial(5)"
   ]
  },
  {
   "cell_type": "code",
   "execution_count": 177,
   "metadata": {},
   "outputs": [
    {
     "name": "stdout",
     "output_type": "stream",
     "text": [
      "2\n",
      "4\n",
      "7\n",
      "11\n",
      "16\n"
     ]
    }
   ],
   "source": [
    "n = 5\n",
    "\n",
    "j = 1\n",
    "\n",
    "for i in range (1, n + 1):\n",
    "    j = j +i\n",
    "    print(j)\n"
   ]
  },
  {
   "cell_type": "code",
   "execution_count": 179,
   "metadata": {},
   "outputs": [
    {
     "name": "stdout",
     "output_type": "stream",
     "text": [
      "f1 0\n",
      "f2 1\n",
      "nextfib 1\n",
      "nextfib 2\n",
      "nextfib 3\n",
      "nextfib 5\n",
      "nextfib 8\n",
      "nextfib 13\n",
      "nextfib 21\n",
      "nextfib 34\n"
     ]
    }
   ],
   "source": [
    "# Step 1: Initialize the first two Fibonacci numbers\n",
    "fib1 = 0\n",
    "fib2 = 1\n",
    "\n",
    "# Step 2: Print the first two Fibonacci numbers\n",
    "print(\"f1\",fib1)\n",
    "print(\"f2\",fib2)\n",
    "\n",
    "# Step 3: Use a loop to calculate and print the next 8 Fibonacci numbers\n",
    "for _ in range(8):\n",
    "    # Calculate the next Fibonacci number\n",
    "    next_fib = fib1 + fib2\n",
    "    # Print the next Fibonacci number\n",
    "    print(\"nextfib\",next_fib)\n",
    "    # Update fib1 and fib2 for the next iteration\n",
    "    fib1 = fib2\n",
    "    fib2 = next_fib\n"
   ]
  },
  {
   "cell_type": "code",
   "execution_count": 186,
   "metadata": {},
   "outputs": [
    {
     "ename": "IndexError",
     "evalue": "list index out of range",
     "output_type": "error",
     "traceback": [
      "\u001b[1;31m---------------------------------------------------------------------------\u001b[0m",
      "\u001b[1;31mIndexError\u001b[0m                                Traceback (most recent call last)",
      "Cell \u001b[1;32mIn[186], line 9\u001b[0m\n\u001b[0;32m      5\u001b[0m \u001b[38;5;28mmax\u001b[39m(a)\n\u001b[0;32m      7\u001b[0m j \u001b[38;5;241m=\u001b[39m a[\u001b[38;5;241m0\u001b[39m]\n\u001b[1;32m----> 9\u001b[0m \u001b[38;5;28;01mfor\u001b[39;00m i \u001b[38;5;129;01min\u001b[39;00m \u001b[38;5;28mrange\u001b[39m(\u001b[43ma\u001b[49m\u001b[43m[\u001b[49m\u001b[43mi\u001b[49m\u001b[43m]\u001b[49m):\n\u001b[0;32m     10\u001b[0m     \u001b[38;5;28mprint\u001b[39m(a[i])\n",
      "\u001b[1;31mIndexError\u001b[0m: list index out of range"
     ]
    }
   ],
   "source": [
    "#opearation on list \n",
    "\n",
    "a = [ 1,2,5,6,56, 78, 89, 32]\n",
    "\n",
    "max(a)\n",
    "\n",
    "j = a[0]\n",
    "\n",
    "for i in range(a[i]):\n",
    "    print(a[i])\n",
    "\n",
    "\n"
   ]
  },
  {
   "cell_type": "code",
   "execution_count": null,
   "metadata": {},
   "outputs": [],
   "source": []
  },
  {
   "cell_type": "code",
   "execution_count": null,
   "metadata": {},
   "outputs": [],
   "source": []
  }
 ],
 "metadata": {
  "kernelspec": {
   "display_name": "Python 3 (ipykernel)",
   "language": "python",
   "name": "python3"
  },
  "language_info": {
   "codemirror_mode": {
    "name": "ipython",
    "version": 3
   },
   "file_extension": ".py",
   "mimetype": "text/x-python",
   "name": "python",
   "nbconvert_exporter": "python",
   "pygments_lexer": "ipython3",
   "version": "3.12.4"
  }
 },
 "nbformat": 4,
 "nbformat_minor": 2
}
