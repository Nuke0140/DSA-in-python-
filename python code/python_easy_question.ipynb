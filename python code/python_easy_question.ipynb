{
 "cells": [
  {
   "cell_type": "code",
   "execution_count": 3,
   "metadata": {},
   "outputs": [
    {
     "name": "stdout",
     "output_type": "stream",
     "text": [
      "lets start it \n"
     ]
    }
   ],
   "source": [
    "# 1.print the hello world in console \n",
    "print(\"lets start it \")"
   ]
  },
  {
   "cell_type": "code",
   "execution_count": 1,
   "metadata": {},
   "outputs": [
    {
     "name": "stdout",
     "output_type": "stream",
     "text": [
      " hello guys i m doing lots of thing today\n"
     ]
    }
   ],
   "source": [
    "# 2.Create variable and print its value \n",
    "a = \" hello guys i m doing lots of thing today\"\n",
    "print(a)"
   ]
  },
  {
   "cell_type": "code",
   "execution_count": 8,
   "metadata": {},
   "outputs": [
    {
     "name": "stdout",
     "output_type": "stream",
     "text": [
      "value of a : 5 value of b: 6\n",
      "value of a : 6 value of b: 5\n"
     ]
    }
   ],
   "source": [
    "#3. Swap the value of two varibles \n",
    "a = 5 \n",
    "b= 6\n",
    "print(\"value of a :\",a,\"value of b:\" ,b)\n",
    "a,b=b,a\n",
    "print(\"value of a :\",a,\"value of b:\" ,b)\n"
   ]
  },
  {
   "cell_type": "code",
   "execution_count": 10,
   "metadata": {},
   "outputs": [
    {
     "name": "stdout",
     "output_type": "stream",
     "text": [
      "11\n"
     ]
    }
   ],
   "source": [
    "#.4 print the sum of two numbers \n",
    "\n",
    "a = 5 \n",
    "b= 6\n",
    "c= a+b \n",
    "print(c)"
   ]
  },
  {
   "cell_type": "code",
   "execution_count": 11,
   "metadata": {},
   "outputs": [
    {
     "name": "stdout",
     "output_type": "stream",
     "text": [
      "11.333333333333334\n"
     ]
    }
   ],
   "source": [
    "# 5. dividing two numbers \n",
    "num1= 34 \n",
    "num2 = 3\n",
    "num3 = num1/num2\n",
    "print(num3)"
   ]
  },
  {
   "cell_type": "code",
   "execution_count": 14,
   "metadata": {},
   "outputs": [
    {
     "name": "stdout",
     "output_type": "stream",
     "text": [
      "division og number is : 11.333333333333334   and remainder is :  1\n"
     ]
    }
   ],
   "source": [
    "# 6.reminder of  dicing two number\n",
    "\n",
    "num1= 34 \n",
    "num2 = 3\n",
    "devivision= num1 / num2\n",
    "remainder = num1 % num2\n",
    "print(\"division og number is :\", devivision,' ', \"and remainder is : \", remainder)"
   ]
  },
  {
   "cell_type": "code",
   "execution_count": 15,
   "metadata": {},
   "outputs": [
    {
     "name": "stdout",
     "output_type": "stream",
     "text": [
      "782\n"
     ]
    }
   ],
   "source": [
    "#7 multiplying 2  numbers \n",
    "num1 =  23 \n",
    "num2 = 34 \n",
    "mul= num1 * num2\n",
    "print(mul)"
   ]
  },
  {
   "cell_type": "code",
   "execution_count": 22,
   "metadata": {},
   "outputs": [
    {
     "name": "stdout",
     "output_type": "stream",
     "text": [
      "<class 'int'> 7\n",
      "<class 'float'> 7.0\n"
     ]
    }
   ],
   "source": [
    "#8. convert sting to interger and float \n",
    "\n",
    "a = \" 7\"\n",
    "b = int(a)\n",
    "print(type(b), b)\n",
    "\n",
    "c = float(a)\n",
    "print(type(c), c)\n"
   ]
  },
  {
   "cell_type": "code",
   "execution_count": 25,
   "metadata": {},
   "outputs": [
    {
     "name": "stdout",
     "output_type": "stream",
     "text": [
      "65 on here so can y\n"
     ]
    }
   ],
   "source": [
    "# 9  find  the length of string \n",
    "\n",
    "a = \" hello world i m learning the python here so can you help with it\"\n",
    "\n",
    "print( len(a), a[34:50])"
   ]
  },
  {
   "cell_type": "code",
   "execution_count": 33,
   "metadata": {},
   "outputs": [
    {
     "name": "stdout",
     "output_type": "stream",
     "text": [
      "number is negative \n"
     ]
    }
   ],
   "source": [
    "# 10  Write a program  that checks if number is postive  or negataive\n",
    "\n",
    "a = -1 \n",
    "\n",
    "if a >=0 or a ==0 :\n",
    "    print(\" number is postive\")\n",
    "else :\n",
    "    print(\"number is negative \")"
   ]
  },
  {
   "cell_type": "code",
   "execution_count": 42,
   "metadata": {},
   "outputs": [
    {
     "name": "stdout",
     "output_type": "stream",
     "text": [
      " The number is even\n"
     ]
    }
   ],
   "source": [
    "# 11 Write a program tha  number even or add \n",
    "a = 22\n",
    "\n",
    "if a%2==0: \n",
    "    print(\" The number is even\")\n",
    "else: \n",
    "    print(\" the number is odd \")"
   ]
  },
  {
   "cell_type": "code",
   "execution_count": 5,
   "metadata": {},
   "outputs": [
    {
     "name": "stdout",
     "output_type": "stream",
     "text": [
      "this year is leap year \n"
     ]
    }
   ],
   "source": [
    "# 12.Write  a program  that checks if the year is leap nor not \n",
    "year = 2028\n",
    "\n",
    "if year%4 == 0:\n",
    "    print (\"this year is leap year \")\n",
    "else:\n",
    "    print (\"its Normal year\")"
   ]
  },
  {
   "cell_type": "code",
   "execution_count": 9,
   "metadata": {},
   "outputs": [
    {
     "name": "stdout",
     "output_type": "stream",
     "text": [
      " this is vowel\n",
      "None\n"
     ]
    }
   ],
   "source": [
    "# 13. write that checks if character is a vowel or consonant \n",
    "\n",
    "def check_vowel(name):\n",
    "    if (name =='a'or name == 'e' or name =='i' or name=='o' or name == \"u\"):\n",
    "        print(\" this is vowel\")\n",
    "    else:\n",
    "        print(\"this is consonant\")\n",
    "        \n",
    "\n",
    "a= check_vowel(\"u\")\n",
    "print(a)"
   ]
  },
  {
   "cell_type": "code",
   "execution_count": 1,
   "metadata": {},
   "outputs": [
    {
     "name": "stdout",
     "output_type": "stream",
     "text": [
      "vowel\n"
     ]
    }
   ],
   "source": [
    "li=['a', 'e', 'i','o','u']\n",
    "\n",
    "a = \"u\"\n",
    "\n",
    "if a in li:\n",
    "    print(\"vowel\")\n",
    "else:\n",
    "    print(\"consonant\")\n",
    "    "
   ]
  },
  {
   "cell_type": "code",
   "execution_count": 25,
   "metadata": {},
   "outputs": [
    {
     "name": "stdout",
     "output_type": "stream",
     "text": [
      "1   2   3   4   5   6   7   8   9   10   \n",
      "even number\n",
      "0   2   4   6   8   10   12   14   16   18   \n",
      "odd numbers \n",
      "1 3 5 7 9 11 13 15 17 19 "
     ]
    }
   ],
   "source": [
    "# 16 print  the number  1 to 10 using loop \n",
    "for i in range (1, 11): \n",
    "    print(i, end='   ')\n",
    "print()\n",
    "print(\"even number\", )\n",
    "# is number i even number 1 to 20 using loop\n",
    "for i in range(0,20,2):\n",
    "    \n",
    "    print(i,end='   ')\n",
    "\n",
    "\n",
    "#Write then odd number between 1 to 20 using loop \n",
    "print()\n",
    "print(\"odd numbers \")\n",
    "for i in range(1,20,2):\n",
    "    print(i, end=' ')\n"
   ]
  },
  {
   "cell_type": "code",
   "execution_count": 29,
   "metadata": {},
   "outputs": [
    {
     "name": "stdout",
     "output_type": "stream",
     "text": [
      "5\n",
      "10\n",
      "15\n",
      "20\n",
      "25\n",
      "30\n",
      "35\n",
      "40\n",
      "45\n",
      "50\n"
     ]
    }
   ],
   "source": [
    "# print the multiplcaton table \n",
    "\n",
    "a = 5\n",
    "\n",
    "for i in range (1 , 11):\n",
    "    i = i * a\n",
    "    print(i)"
   ]
  },
  {
   "cell_type": "code",
   "execution_count": 43,
   "metadata": {},
   "outputs": [
    {
     "name": "stdout",
     "output_type": "stream",
     "text": [
      "10 19 27 34 40 45 49 52 54 55 sum of this number 55\n"
     ]
    }
   ],
   "source": [
    "# write the program sum of 1st natural number \n",
    "a = 10\n",
    "b = 0 \n",
    "\n",
    "while (a>0):\n",
    "    b += a\n",
    "    a -= 1\n",
    "    print(b,end=' ')\n",
    "print(\"sum of this number\", b)\n",
    "\n"
   ]
  },
  {
   "cell_type": "code",
   "execution_count": 26,
   "metadata": {},
   "outputs": [
    {
     "name": "stdout",
     "output_type": "stream",
     "text": [
      "120\n"
     ]
    }
   ],
   "source": [
    "# calculate factorial of number \n",
    "def fact(n):\n",
    "    if n==1:\n",
    "        return 1 \n",
    "    else:\n",
    "        return (n * fact(n-1))\n",
    "    \n",
    "print(fact(5))"
   ]
  },
  {
   "cell_type": "code",
   "execution_count": 21,
   "metadata": {},
   "outputs": [
    {
     "name": "stdout",
     "output_type": "stream",
     "text": [
      "9\n"
     ]
    }
   ],
   "source": [
    "# write n function sum of two number \n",
    "\n",
    "def add (num1 , num2):\n",
    "    return num1 + num2\n",
    "\n",
    "\n",
    "print(add(4 , 5))"
   ]
  },
  {
   "cell_type": "code",
   "execution_count": 24,
   "metadata": {},
   "outputs": [
    {
     "name": "stdout",
     "output_type": "stream",
     "text": [
      "16\n"
     ]
    }
   ],
   "source": [
    "# function return the suqare of the number \n",
    "\n",
    "\n",
    "def suqare(num):\n",
    "    return num * num\n",
    "\n",
    "print(suqare(4))"
   ]
  },
  {
   "cell_type": "code",
   "execution_count": null,
   "metadata": {},
   "outputs": [],
   "source": []
  },
  {
   "cell_type": "code",
   "execution_count": 25,
   "metadata": {},
   "outputs": [
    {
     "name": "stdout",
     "output_type": "stream",
     "text": [
      "squre root of given number is 8.06225774829855\n"
     ]
    }
   ],
   "source": [
    "#square root program \n",
    "\n",
    "num = 65 \n",
    "sr= num**(1/2)\n",
    "print (\"squre root of given number is\",sr )"
   ]
  },
  {
   "cell_type": "markdown",
   "metadata": {},
   "source": [
    "write simple addtion program \n"
   ]
  },
  {
   "cell_type": "code",
   "execution_count": 4,
   "metadata": {},
   "outputs": [
    {
     "name": "stdout",
     "output_type": "stream",
     "text": [
      "fghvh\n"
     ]
    }
   ],
   "source": [
    "a= input(\"hello boys ut some her \")\n",
    "print(a)"
   ]
  },
  {
   "cell_type": "code",
   "execution_count": null,
   "metadata": {},
   "outputs": [],
   "source": []
  },
  {
   "cell_type": "code",
   "execution_count": null,
   "metadata": {},
   "outputs": [],
   "source": []
  }
 ],
 "metadata": {
  "kernelspec": {
   "display_name": "Python 3",
   "language": "python",
   "name": "python3"
  },
  "language_info": {
   "codemirror_mode": {
    "name": "ipython",
    "version": 3
   },
   "file_extension": ".py",
   "mimetype": "text/x-python",
   "name": "python",
   "nbconvert_exporter": "python",
   "pygments_lexer": "ipython3",
   "version": "3.12.4"
  }
 },
 "nbformat": 4,
 "nbformat_minor": 2
}
